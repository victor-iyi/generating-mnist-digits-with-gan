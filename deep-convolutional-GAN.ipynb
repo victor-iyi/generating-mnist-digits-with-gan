{
 "cells": [
  {
   "cell_type": "markdown",
   "metadata": {
    "deletable": true,
    "editable": true
   },
   "source": [
    "# Deep Convolutional Generative Adversarial Network (DCGAN)"
   ]
  },
  {
   "cell_type": "code",
   "execution_count": 6,
   "metadata": {
    "collapsed": true,
    "deletable": true,
    "editable": true
   },
   "outputs": [],
   "source": [
    "import os\n",
    "import sys\n",
    "import datetime as dt\n",
    "\n",
    "import numpy as np\n",
    "import tensorflow as tf\n",
    "import tflearn\n",
    "import matplotlib.pyplot as plt\n",
    "\n",
    "from dataset import ImageDataset\n",
    "\n",
    "%matplotlib inline"
   ]
  },
  {
   "cell_type": "markdown",
   "metadata": {},
   "source": [
    "### Loding dataset"
   ]
  },
  {
   "cell_type": "code",
   "execution_count": 2,
   "metadata": {
    "collapsed": false
   },
   "outputs": [
    {
     "name": "stdout",
     "output_type": "stream",
     "text": [
      "Processing 5 of 5 class labels & 799 of 799 images"
     ]
    }
   ],
   "source": [
    "data = ImageDataset(data_dir='datasets/flowers/', size=50, flatten=False, grayscale=False)\n",
    "# data.create()\n",
    "# data.save('datasets/saved/data.pkl')\n",
    "# data = data.load('datasets/saved/data.pkl')"
   ]
  },
  {
   "cell_type": "code",
   "execution_count": 4,
   "metadata": {
    "collapsed": false
   },
   "outputs": [
    {
     "name": "stdout",
     "output_type": "stream",
     "text": [
      "(3303, 50, 50, 3) (367, 50, 50, 3)\n"
     ]
    }
   ],
   "source": [
    "X_train, _, X_test, _ = data.train_test_split(test_size=0.1)\n",
    "print(X_train.shape, X_test.shape)"
   ]
  },
  {
   "cell_type": "code",
   "execution_count": 5,
   "metadata": {
    "collapsed": false
   },
   "outputs": [
    {
     "name": "stdout",
     "output_type": "stream",
     "text": [
      "size: 50\tchannel: 3\t flattened: 7,500\n"
     ]
    }
   ],
   "source": [
    "image_size = data.size\n",
    "image_channel = data.channels\n",
    "image_size_flat = image_size * image_size * image_channel\n",
    "print('size: {}\\tchannel: {}\\t flattened: {:,}'.format(image_size, image_channel, image_size_flat))"
   ]
  },
  {
   "cell_type": "code",
   "execution_count": 11,
   "metadata": {
    "collapsed": true
   },
   "outputs": [],
   "source": [
    "keep_prob = 0.8"
   ]
  },
  {
   "cell_type": "markdown",
   "metadata": {},
   "source": [
    "### Discriminator `(Deep Convolutional Neural Net)`"
   ]
  },
  {
   "cell_type": "code",
   "execution_count": 16,
   "metadata": {
    "collapsed": false
   },
   "outputs": [],
   "source": [
    "def discriminator(image, reuse=False):\n",
    "    with tf.variable_scope('discriminator', reuse=reuse):\n",
    "        # Building 'AlexNet'\n",
    "        network = tf.reshape(image, shape=[-1, image_size, image_size, image_channel])\n",
    "        # 1st convnet\n",
    "        network = tflearn.conv_2d(network, nb_filter=96, filter_size=11, strides=4, activation='relu',)\n",
    "        network = tflearn.max_pool_2d(network, kernel_size=3, strides=2)\n",
    "        network = tflearn.batch_normalization(network)\n",
    "        # 2nd convnet\n",
    "        network = tflearn.conv_2d(network, nb_filter=256, filter_size=5, activation='relu')\n",
    "        network = tflearn.max_pool_2d(network, kernel_size=3, strides=2)\n",
    "        network = tflearn.batch_normalization(network)\n",
    "        # 3, 4, 5 convnet\n",
    "        network = tflearn.conv_2d(network, nb_filter=384, filter_size=3, activation='relu')\n",
    "        network = tflearn.conv_2d(network, nb_filter=384, filter_size=3, activation='relu')\n",
    "        network = tflearn.conv_2d(network, nb_filter=256, filter_size=3, activation='relu')\n",
    "        network = tflearn.max_pool_2d(network, kernel_size=3, strides=2)\n",
    "        network = tflearn.batch_normalization(network)\n",
    "        # 1st fully connected\n",
    "        network = tflearn.fully_connected(network, n_units=4096, activation='tanh')\n",
    "        network = tflearn.dropout(network, keep_prob)\n",
    "        # 2nd fully connected\n",
    "        network = tflearn.fully_connected(network, n_units=4096, activation='tanh')\n",
    "        network = tflearn.dropout(network, keep_prob)\n",
    "        # 3rd fully connected\n",
    "        network = tflearn.fully_connected(network, n_units=1, activation='softmax')\n",
    "    return network"
   ]
  },
  {
   "cell_type": "markdown",
   "metadata": {},
   "source": [
    "## Generator `(Deep Deconvolutional Neural Net)`"
   ]
  },
  {
   "cell_type": "code",
   "execution_count": 56,
   "metadata": {
    "collapsed": true
   },
   "outputs": [],
   "source": [
    "def generator(noise, reuse=False):\n",
    "    with tf.variable_scope('generator', reuse=reuse):\n",
    "        x = tflearn.fully_connected(noise, n_units=4096, activation='tanh')\n",
    "        x = tflearn.batch_normalization(x)\n",
    "        x = tflearn.fully_connected(x, n_units=1024, activation='tanh')  # 8*8*16=1024\n",
    "        x = tf.reshape(x, shape=[-1, 8, 8, 16])\n",
    "        x = tflearn.upsample_2d(x, 2)\n",
    "        x = tflearn.conv_2d(x, nb_filter=256, filter_size=5, activation='relu')\n",
    "        x = tflearn.conv_2d(x, nb_filter=384, filter_size=5, activation='relu')\n",
    "        x = tflearn.conv_2d(x, nb_filter=384, filter_size=5, activation='relu')\n",
    "        x = tflearn.batch_normalization(x)\n",
    "        x = tflearn.upsample_2d(x, kernel_size=2)\n",
    "        x = tflearn.conv_2d(x, nb_filter=256, filter_size=5, activation='relu')\n",
    "        x = tflearn.batch_normalization(x)\n",
    "        x = tflearn.conv_2d(x, nb_filter=image_size_flat, filter_size=5, activation='relu')\n",
    "        x = tflearn.upsample_2d(x, kernel_size=2)\n",
    "        x = tflearn.conv_2d(x, nb_filter=96, filter_size=5, activation='relu')\n",
    "        x = tf.reshape(x, shape=[-1, image_size, image_size, image_channel])\n",
    "        return x"
   ]
  },
  {
   "cell_type": "code",
   "execution_count": 57,
   "metadata": {
    "collapsed": false
   },
   "outputs": [],
   "source": [
    "z_dim = 200\n",
    "\n",
    "tf.reset_default_graph()\n",
    "\n",
    "gen_input = tflearn.input_data(shape=[None, z_dim], name='input_noise')\n",
    "disc_input = tflearn.input_data(shape=[None, image_size_flat], name='disc_input')\n",
    "\n",
    "gen_sample = generator(gen_input)\n",
    "disc_real = discriminator(disc_input)\n",
    "disc_fake = discriminator(gen_sample, reuse=True)"
   ]
  },
  {
   "cell_type": "code",
   "execution_count": 60,
   "metadata": {
    "collapsed": false
   },
   "outputs": [
    {
     "name": "stdout",
     "output_type": "stream",
     "text": [
      "Tensor(\"discriminator_1/FullyConnected_2/Softmax:0\", shape=(?, 1), dtype=float32)\n"
     ]
    }
   ],
   "source": []
  }
 ],
 "metadata": {
  "kernelspec": {
   "display_name": "Python 3",
   "language": "python",
   "name": "python3"
  },
  "language_info": {
   "codemirror_mode": {
    "name": "ipython",
    "version": 3
   },
   "file_extension": ".py",
   "mimetype": "text/x-python",
   "name": "python",
   "nbconvert_exporter": "python",
   "pygments_lexer": "ipython3",
   "version": "3.6.3"
  }
 },
 "nbformat": 4,
 "nbformat_minor": 2
}
